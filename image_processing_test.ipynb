{
 "cells": [
  {
   "cell_type": "markdown",
   "metadata": {},
   "source": [
    "1. 파일 업로드 형식의 엔드포인트"
   ]
  },
  {
   "cell_type": "code",
   "execution_count": 1,
   "metadata": {},
   "outputs": [
    {
     "name": "stdout",
     "output_type": "stream",
     "text": [
      "{'save_path': 'image_processing_image.jpg', 'content_type': 'image/jpeg'}\n"
     ]
    }
   ],
   "source": [
    "import requests\n",
    "from io import BytesIO\n",
    "from PIL import Image\n",
    "\n",
    "# 예제 이미지를 로드하고 BytesIO 객체로 변환\n",
    "image = Image.open(\"image_processing_cat.jpg\")  # 테스트 하고 싶은 실제 이미지 경로로 수정하세요\n",
    "buffered = BytesIO()\n",
    "image.save(buffered, format=\"JPEG\")\n",
    "image_bytes = buffered.getvalue()\n",
    "\n",
    "# FastAPI 엔드포인트 URL\n",
    "url = \"http://127.0.0.1:8000/upload_imgfile/\"\n",
    "\n",
    "# 파일과 함께 POST 요청 실행\n",
    "files = {'file': ('image.jpg', image_bytes, 'image/jpeg')}\n",
    "response = requests.post(url, files=files)\n",
    "\n",
    "# 응답 출력\n",
    "print(response.json())"
   ]
  },
  {
   "cell_type": "markdown",
   "metadata": {},
   "source": [
    "2. base64 업로드 형식의 엔드포인트"
   ]
  },
  {
   "cell_type": "code",
   "execution_count": 2,
   "metadata": {},
   "outputs": [
    {
     "name": "stdout",
     "output_type": "stream",
     "text": [
      "{\"save_path\":\"image_processing_user_base64.jpg\"}\n"
     ]
    }
   ],
   "source": [
    "import requests\n",
    "import base64\n",
    "\n",
    "# 이미지를 Base64로 인코딩하는 함수\n",
    "def encode_image_to_base64(image_path):\n",
    "    with open(image_path, \"rb\") as image_file:\n",
    "        return base64.b64encode(image_file.read()).decode('utf-8')\n",
    "\n",
    "# 이미지 경로 \n",
    "image_path = \"image_processing_cat.jpg\"  # 테스트 하고 싶은 실제 이미지 경로로 수정하세요\n",
    "\n",
    "# 이미지를 Base64로 인코딩\n",
    "image_base64 = encode_image_to_base64(image_path)\n",
    "\n",
    "# FastAPI 엔드포인트 URL\n",
    "url = \"http://127.0.0.1:8000/upload_base64/\"\n",
    "\n",
    "# 요청할 JSON 데이터 구성\n",
    "data = {\n",
    "    \"username\": \"user\",\n",
    "    \"image_base64\": image_base64\n",
    "}\n",
    "\n",
    "# POST 요청 실행\n",
    "response = requests.post(url, json=data)\n",
    "\n",
    "# 응답 출력\n",
    "print(response.text)"
   ]
  },
  {
   "cell_type": "code",
   "execution_count": null,
   "metadata": {},
   "outputs": [],
   "source": []
  }
 ],
 "metadata": {
  "kernelspec": {
   "display_name": "sesac_gpu_env310",
   "language": "python",
   "name": "python3"
  },
  "language_info": {
   "codemirror_mode": {
    "name": "ipython",
    "version": 3
   },
   "file_extension": ".py",
   "mimetype": "text/x-python",
   "name": "python",
   "nbconvert_exporter": "python",
   "pygments_lexer": "ipython3",
   "version": "3.10.14"
  }
 },
 "nbformat": 4,
 "nbformat_minor": 2
}
